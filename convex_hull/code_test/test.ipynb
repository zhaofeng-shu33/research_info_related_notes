{
 "cells": [
  {
   "cell_type": "code",
   "execution_count": 20,
   "metadata": {},
   "outputs": [],
   "source": [
    "from scipy.spatial import HalfspaceIntersection\n",
    "import numpy as np\n",
    "halfspaces = np.array([[-0.08451305,  0.40829901, -1.        ],\n",
    "                       [ 0.82045632,  1.6794289 , -1.        ],\n",
    "                       [ 0.20886678, -0.7418645 , -1.        ],\n",
    "                       [-0.94481005, -1.34586342, -1.        ]])\n",
    "feasible_point = np.array([0.0, 0.0])\n",
    "hs = HalfspaceIntersection(halfspaces, feasible_point)"
   ]
  },
  {
   "cell_type": "code",
   "execution_count": 22,
   "metadata": {},
   "outputs": [
    {
     "data": {
      "text/plain": [
       "array([[-3.51178024,  1.72228863],\n",
       "       [-2.6652607 ,  1.89750813],\n",
       "       [ 0.61505315, -1.17479112],\n",
       "       [ 2.52364138, -0.63744141]])"
      ]
     },
     "execution_count": 22,
     "metadata": {},
     "output_type": "execute_result"
    }
   ],
   "source": [
    "hs.intersections"
   ]
  },
  {
   "cell_type": "code",
   "execution_count": 21,
   "metadata": {},
   "outputs": [
    {
     "data": {
      "text/plain": [
       "array([0, 1, 2, 3])"
      ]
     },
     "execution_count": 21,
     "metadata": {},
     "output_type": "execute_result"
    }
   ],
   "source": [
    "hs.dual_vertices"
   ]
  }
 ],
 "metadata": {
  "kernelspec": {
   "display_name": "Python 3.10.4 64-bit",
   "language": "python",
   "name": "python3"
  },
  "language_info": {
   "codemirror_mode": {
    "name": "ipython",
    "version": 3
   },
   "file_extension": ".py",
   "mimetype": "text/x-python",
   "name": "python",
   "nbconvert_exporter": "python",
   "pygments_lexer": "ipython3",
   "version": "3.10.4"
  },
  "orig_nbformat": 4,
  "vscode": {
   "interpreter": {
    "hash": "4aebf08afcf20b5341657b49e6e88f482270b0f3a251db5c39ddffa752bc03f6"
   }
  }
 },
 "nbformat": 4,
 "nbformat_minor": 2
}
